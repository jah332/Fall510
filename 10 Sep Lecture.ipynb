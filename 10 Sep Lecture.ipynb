{
 "cells": [
  {
   "cell_type": "markdown",
   "metadata": {},
   "source": [
    "# Logic"
   ]
  },
  {
   "cell_type": "code",
   "execution_count": 2,
   "metadata": {
    "collapsed": false
   },
   "outputs": [
    {
     "name": "stdout",
     "output_type": "stream",
     "text": [
      "y is less than 1.\n",
      "Did this work?\n"
     ]
    }
   ],
   "source": [
    "y = -4\n",
    "if y == 1:\n",
    "    print('y equals 1.')\n",
    "\n",
    "if y < 1:\n",
    "    print('y is less than 1.')\n",
    "    \n",
    "if y <= 1:\n",
    "    print('Did this work?')"
   ]
  },
  {
   "cell_type": "markdown",
   "metadata": {},
   "source": [
    "# Loops"
   ]
  },
  {
   "cell_type": "markdown",
   "metadata": {},
   "source": [
    "##For Loops"
   ]
  },
  {
   "cell_type": "code",
   "execution_count": 10,
   "metadata": {
    "collapsed": false
   },
   "outputs": [
    {
     "name": "stdout",
     "output_type": "stream",
     "text": [
      "This is an odd number\n",
      "It isn't greater than five, either\n",
      "Big number!\n",
      "This is an odd number\n",
      "It isn't greater than five, either\n",
      "this number isn't greater than 5\n",
      "nor is it odd\n",
      "feeling special?\n"
     ]
    }
   ],
   "source": [
    "a = [1,10,3,4]\n",
    "for num in a:\n",
    "    if num > 5:\n",
    "        print (\"Big number!\")\n",
    "    elif num % 2 != 0:\n",
    "        print (\"This is an odd number\")\n",
    "        print (\"It isn't greater than five, either\")\n",
    "    else:\n",
    "        print (\"this number isn't greater than 5\")\n",
    "        print (\"nor is it odd\")\n",
    "        print (\"feeling special?\")\n",
    "\n"
   ]
  },
  {
   "cell_type": "markdown",
   "metadata": {},
   "source": [
    "##While Loops"
   ]
  },
  {
   "cell_type": "code",
   "execution_count": 11,
   "metadata": {
    "collapsed": false
   },
   "outputs": [
    {
     "name": "stdout",
     "output_type": "stream",
     "text": [
      "1\n",
      "2\n",
      "3\n",
      "4\n",
      "5\n",
      "6\n",
      "7\n",
      "8\n",
      "9\n",
      "10\n"
     ]
    }
   ],
   "source": [
    "a = 0\n",
    "while a < 10:\n",
    "    a = a + 1\n",
    "    print(a)\n",
    "    "
   ]
  },
  {
   "cell_type": "code",
   "execution_count": 14,
   "metadata": {
    "collapsed": false
   },
   "outputs": [
    {
     "name": "stdout",
     "output_type": "stream",
     "text": [
      "10\n",
      "('We have counted x down, now it equals', 9)\n",
      "9\n",
      "('We have counted x down, now it equals', 8)\n",
      "8\n",
      "('We have counted x down, now it equals', 7)\n",
      "7\n",
      "('We have counted x down, now it equals', 6)\n",
      "6\n",
      "('We have counted x down, now it equals', 5)\n",
      "5\n",
      "('We have counted x down, now it equals', 4)\n",
      "4\n",
      "('We have counted x down, now it equals', 3)\n",
      "3\n",
      "('We have counted x down, now it equals', 2)\n",
      "2\n",
      "('We have counted x down, now it equals', 1)\n",
      "1\n",
      "('We have counted x down, now it equals', 0)\n",
      "Now the loop has ended.\n"
     ]
    }
   ],
   "source": [
    "x = 10\n",
    "while x !=0:\n",
    "    print(x)\n",
    "    x = x - 1\n",
    "    print('We have counted x down, now it equals',x)\n",
    "print(\"Now the loop has ended.\")"
   ]
  },
  {
   "cell_type": "code",
   "execution_count": null,
   "metadata": {
    "collapsed": true
   },
   "outputs": [],
   "source": []
  }
 ],
 "metadata": {
  "kernelspec": {
   "display_name": "Python 2",
   "language": "python",
   "name": "python2"
  },
  "language_info": {
   "codemirror_mode": {
    "name": "ipython",
    "version": 2
   },
   "file_extension": ".py",
   "mimetype": "text/x-python",
   "name": "python",
   "nbconvert_exporter": "python",
   "pygments_lexer": "ipython2",
   "version": "2.7.10"
  }
 },
 "nbformat": 4,
 "nbformat_minor": 0
}
