{
 "cells": [
  {
   "cell_type": "markdown",
   "metadata": {},
   "source": [
    "# John Horton Assignment 3"
   ]
  },
  {
   "cell_type": "markdown",
   "metadata": {},
   "source": [
    "### Question 1"
   ]
  },
  {
   "cell_type": "code",
   "execution_count": 1,
   "metadata": {
    "collapsed": false
   },
   "outputs": [
    {
     "name": "stdout",
     "output_type": "stream",
     "text": [
      "*\n",
      "***\n",
      "*****\n",
      "*******\n",
      "*********\n",
      "***********\n",
      "*************\n",
      "***************\n"
     ]
    }
   ],
   "source": [
    "def histogram(userList):\n",
    "    \"\"\"\n",
    "    This function takes a list of integers and prints a histogram with bar sizes matching the integers in that list\n",
    "    \n",
    "    Parameters:\n",
    "    userList - the list of integers input by the user, must be entered as a list object\n",
    "    \"\"\"\n",
    "    uList = userList\n",
    "    histMark = '*' #Defines the character with which we build the bars of the histogram\n",
    "    histBar = '' #Initializes our bar variable as a blank string\n",
    "    for x in range(0,len(uList)): #Loops through the list to pull each value into our nested loop\n",
    "        for y in range(0,uList[x]): #Loops at each value so we can place the correct number of marks in each bar\n",
    "            histBar += histMark #Builds the bars by adding a mark to the bar uList[x] times\n",
    "        print(histBar)\n",
    "        histBar = '' #Resets the bar variable so we can build the next bar\n",
    "    \n",
    "histogram([1,3,5,7,9,11,13,15])\n",
    "            "
   ]
  },
  {
   "cell_type": "markdown",
   "metadata": {},
   "source": [
    "### Question 2"
   ]
  },
  {
   "cell_type": "code",
   "execution_count": 2,
   "metadata": {
    "collapsed": false
   },
   "outputs": [
    {
     "name": "stdout",
     "output_type": "stream",
     "text": [
      "The maximum number in your list is: 7\n",
      "The maximum value is 7\n"
     ]
    }
   ],
   "source": [
    "def max_in_list(userList):\n",
    "    \"\"\"\n",
    "    This function takes a list of numbers from the user and returns the maximum number in that list\n",
    "    \n",
    "    Parameters:\n",
    "    userList - the list of numbers input by the user, must be entered as a list object\n",
    "    \"\"\"\n",
    "    uList = userList\n",
    "    maxNum = uList[0] #Initializes the return variable, the list's maximum, to the first value in our list\n",
    "    for x in range(0,len(uList)): #Loops through the list so we can pull each value for comparison\n",
    "        if uList[x] > maxNum: #Compares the xth value in our list to the current maximum\n",
    "            maxNum = uList[x]  #If the xth value in the list is greater than the current max, it is the new max\n",
    "    print('The maximum number in your list is:',maxNum)\n",
    "    return maxNum\n",
    "\n",
    "testList = [1,3,5,7,6,4,2] #Tests the function\n",
    "testMax = max_in_list(testList)\n",
    "print('The maximum value is', testMax)\n"
   ]
  },
  {
   "cell_type": "markdown",
   "metadata": {},
   "source": [
    "### Question 3"
   ]
  },
  {
   "cell_type": "code",
   "execution_count": 3,
   "metadata": {
    "collapsed": false
   },
   "outputs": [
    {
     "name": "stdout",
     "output_type": "stream",
     "text": [
      "The lengths of the words in your list are: [3, 4, 5, 6, 7, 8, 9, 10]\n",
      "The lengths of the words in this list are: [3, 4, 5, 6, 7, 8, 9, 10]\n"
     ]
    }
   ],
   "source": [
    "def list_of_lengths(userList):\n",
    "    \"\"\"\n",
    "    This function takes a list of strings from the user and returns a list containing the lengths of those strings\n",
    "    \n",
    "    Parameters:\n",
    "    userList - the list of strings input by the user, must be entered as a list object\n",
    "    \"\"\"\n",
    "    uList = userList\n",
    "    lenList = [] #Initializes the return variable to an empty list\n",
    "    for x in range(0,len(uList)): #Loops through the list so we can take the length of each string in the list\n",
    "        lenList.append(len(uList[x])) #Appends the length of the xth word to our return list\n",
    "    print(\"The lengths of the words in your list are:\",lenList)\n",
    "    return lenList\n",
    "\n",
    "testList = ['car','fuel','tires','diesel','racecar','speedway','racetrack','automobile'] #Tests the function\n",
    "testLenList = list_of_lengths(testList)\n",
    "print(\"The lengths of the words in this list are:\",testLenList)\n",
    "        "
   ]
  },
  {
   "cell_type": "markdown",
   "metadata": {},
   "source": [
    "### Question 4"
   ]
  },
  {
   "cell_type": "code",
   "execution_count": 4,
   "metadata": {
    "collapsed": false
   },
   "outputs": [
    {
     "name": "stdout",
     "output_type": "stream",
     "text": [
      "The longest word in your list is racetrack with a length of 9\n",
      "The length of the longest word in your list is 9\n"
     ]
    }
   ],
   "source": [
    "def find_longest_word(userList):\n",
    "    \"\"\"\n",
    "    This function takes a list of strings from the user and returns the length of the longest string in that list\n",
    "    \n",
    "    Parameters:\n",
    "    userList - the list of strings input by the user, must be entered as a list object\n",
    "    \"\"\"\n",
    "    uList = userList\n",
    "    longWord = '' #Initializes a placeholder for the longest string in our list as a blank string\n",
    "    longLeng = 0 #Initializes our return variable to zero\n",
    "    for x in range(0,len(uList)): #Loops through the list so we can take the length of each string in the list\n",
    "        if len(uList[x]) > longLeng: #Compares the length of the xth string to the current maximum length\n",
    "            longWord = uList[x] #If the length of uList[x] is greater than the current max, uList[x] replaces longWord\n",
    "            longLeng = len(uList[x]) #If the length of uList[x] is greater than the current max, that is the new max\n",
    "    print(\"The longest word in your list is\",longWord,\"with a length of\",longLeng)\n",
    "    return longLeng\n",
    "    \n",
    "testList = ['car','fuel','tires','diesel','speedway','racetrack','racecar'] #Tests the function\n",
    "testLeng = find_longest_word(testList)\n",
    "print(\"The length of the longest word in your list is\",testLeng)"
   ]
  },
  {
   "cell_type": "markdown",
   "metadata": {},
   "source": [
    "### Question 5"
   ]
  },
  {
   "cell_type": "code",
   "execution_count": 15,
   "metadata": {
    "collapsed": false
   },
   "outputs": [
    {
     "name": "stdout",
     "output_type": "stream",
     "text": [
      "The words in your list longer than 7 letters are ['automobile', 'speedway', 'racetrack']\n",
      "The words in your list longer than 7 letters are ['automobile', 'speedway', 'racetrack']\n"
     ]
    }
   ],
   "source": [
    "def filter_long_words(userList,userNum):\n",
    "    \"\"\"\n",
    "    This function takes a list of strings and an integer from the user.\n",
    "    The function returns only the words in the list with length greater than the integer.\n",
    "    \n",
    "    Parameters:\n",
    "    userList - the list of strings input by the user, must be entered as a list object\n",
    "    userNum - the integer to serve as the lower bound on the lengths of the strings returned\n",
    "    \"\"\"\n",
    "    uList = userList\n",
    "    bound = userNum\n",
    "    longList = [] #Initializes our return variable to an empty list\n",
    "    for x in range(0,len(uList)): #Loops through the list so we can take the length of each string in the list\n",
    "        if len(uList[x]) > bound: #Compares the length of the xth string to the user's bound\n",
    "            longList.append(uList[x]) #If the length of uList[x] is greater than the bound, it is put in longList\n",
    "    print(\"The words in your list longer than\",bound,\"letters are\",longList)\n",
    "    return longList\n",
    "\n",
    "testList = ['car','fuel','tires','diesel','automobile','speedway','racetrack','racecar'] #Tests the function\n",
    "testBound = 7\n",
    "testLong = filter_long_words(testList,testBound)\n",
    "print(\"The words in your list longer than\",testBound,\"letters are\",testLong)"
   ]
  },
  {
   "cell_type": "markdown",
   "metadata": {},
   "source": [
    "### Question 6"
   ]
  },
  {
   "cell_type": "code",
   "execution_count": 6,
   "metadata": {
    "collapsed": false
   },
   "outputs": [
    {
     "name": "stdout",
     "output_type": "stream",
     "text": [
      "Yes, ??Sit on a potato pan, Otis!! is a palindrome.\n",
      "T/F: Is ??Sit on a potato pan, Otis!! a palindrome? True\n"
     ]
    }
   ],
   "source": [
    "def is_palindrome2(userString):\n",
    "    \"\"\"\n",
    "    This function takes a string from the user and returns whether that string is a palindrome.\n",
    "    The function ignores punctuation, capitalization, and spacing in the string.\n",
    "    \n",
    "    Parameters:\n",
    "    userString - the string input by the user, to be tested if it is a palindrome\n",
    "    \"\"\"\n",
    "    string = userString\n",
    "    x = 0 #Initializes the index variables we will use to pull characters from the string\n",
    "    y = 1\n",
    "    while x < len(string): #Loops to pull each character from the user's string\n",
    "        while not string[x].isalnum(): #Tests if the xth character is punctuation or spacing\n",
    "            if x+1 < len(string): #Ensures that the punctuation or spacing is not the final character of the string\n",
    "                x += 1 #If we encounter punctuation or spacing in the middle of the string, we skip over it\n",
    "            else: #If the punc or spacing is at the end of the string, we finished comparing characters and return True\n",
    "                print(\"Yes,\",string,\"is a palindrome.\")\n",
    "                return True\n",
    "        while not string[-y].isalnum(): #Tests if the -yth character is punctuation or spacing\n",
    "            if y+1 < len(string): #Ensures taht the punctuation or spacing is not the first character of the string\n",
    "                y += 1 #If we encounter punctuation or spacing in the middle of the string, we skip over it\n",
    "            else: #If the punc or space is at the start of the string, we finished comparing characters and return True\n",
    "                print(\"Yes,\",string,\"is a palindrome.\")\n",
    "                return True\n",
    "        if string[x].lower() != string[-y].lower(): #Compares the xth and -yth *alphanumeric* characters in the string\n",
    "            print(\"Sorry,\",string,\"is not a palindrome.\") #If they are unequal, we return false immediately\n",
    "            return False\n",
    "        x += 1 #Increases x and y by one so we can pull the next set of characters from the string\n",
    "        y += 1\n",
    "                    \n",
    "    print(\"Yes,\",string,\"is a palindrome.\") #Returns true only if we have not yet hit unequal xth and -yth characters\n",
    "    return True #We hit this True return, not those in the loop, if our string doesn't start or end with punc or space\n",
    "\n",
    "testString = '??Sit on a potato pan, Otis!!' #Tests the function\n",
    "testPalindrome = is_palindrome2(testString)\n",
    "print(\"T/F: Is\",testString,\"a palindrome?\",testPalindrome)"
   ]
  },
  {
   "cell_type": "markdown",
   "metadata": {
    "collapsed": false
   },
   "source": [
    "### Question 7"
   ]
  },
  {
   "cell_type": "code",
   "execution_count": 7,
   "metadata": {
    "collapsed": false,
    "scrolled": true
   },
   "outputs": [
    {
     "name": "stdout",
     "output_type": "stream",
     "text": [
      "Yes, your string is a pangram.\n",
      "T/F: Is the string ' The quick brown fox jumps over my lazy dog ' a pangram? True\n"
     ]
    }
   ],
   "source": [
    "def pangram(userString):\n",
    "    \"\"\"\n",
    "    This function takes a string from the user and returns whether or not that string is a pangram.\n",
    "    To be clear, a pangram is a sentence that contains all leters of the English alphabet at least once.\n",
    "    \n",
    "    Parameters:\n",
    "    userString - the string input by the user, to be tested whether it is a pangram\n",
    "    \"\"\"\n",
    "    string = userString\n",
    "    y = 0 #Initializes the index variable we will use to pull characters from the user's string\n",
    "    alBet = ['a','b','c','d','e','f','g','h','i','j','k','l','m','n','o','p','q','r','s','t','u','v','w','x','y','z']\n",
    "    for x in range(0,len(alBet)): #Loops through each character in the alphabet (above) to see if it is in our string\n",
    "        while alBet[x] != string[y].lower(): #Compares the xth character in the alphabet to each of the string's chars\n",
    "            if y+1 < len(string): #If we have characters remaining in our string, we test the next one\n",
    "                y += 1\n",
    "            else:\n",
    "                print('Sorry, your string is not a pangram.') #If no matches, our string is not a pangram\n",
    "                return False\n",
    "        y = 0\n",
    "    print('Yes, your string is a pangram.')\n",
    "    return True\n",
    "\n",
    "testString = 'The quick brown fox jumps over my lazy dog' #Tests the function\n",
    "testPan = pangram(testString)\n",
    "print(\"T/F: Is the string '\",testString,\"' a pangram?\",testPan)\n",
    "            "
   ]
  },
  {
   "cell_type": "markdown",
   "metadata": {
    "collapsed": true
   },
   "source": [
    "### Question 8"
   ]
  },
  {
   "cell_type": "code",
   "execution_count": 8,
   "metadata": {
    "collapsed": false
   },
   "outputs": [
    {
     "name": "stdout",
     "output_type": "stream",
     "text": [
      "99 bottles of coke on the wall, 99 bottles of coke.\n",
      "Take one down, pass it around, 98 bottles of coke on the wall.\n",
      "\n"
     ]
    }
   ],
   "source": [
    "def ninetyNine(userVerses):\n",
    "    \"\"\"\n",
    "    This function takes a number of verses from the user and prints that many verses of 'Nintey-nine Bottles of Coke'\n",
    "    \n",
    "    Parameters:\n",
    "    userVerses - the number of verses of the song to be printed\n",
    "    \"\"\"\n",
    "    verses = userVerses\n",
    "    for x in range(0,verses): #Loops to repeat the verse the number of times desired by the user\n",
    "        print(99-x,\"bottles of coke on the wall,\",99-x,\"bottles of coke.\") #'99-x' used to ensure proper number prints\n",
    "        print(\"Take one down, pass it around,\",98-x,\"bottles of coke on the wall.\")\n",
    "        print(\"\")\n",
    "    \n",
    "testVerses = 1 #Tests the function\n",
    "ninetyNine(testVerses)"
   ]
  },
  {
   "cell_type": "markdown",
   "metadata": {},
   "source": [
    "### Question 9"
   ]
  },
  {
   "cell_type": "code",
   "execution_count": 9,
   "metadata": {
    "collapsed": false
   },
   "outputs": [
    {
     "name": "stdout",
     "output_type": "stream",
     "text": [
      "['god', 'jul', 'och', 'gott', 'nytt', 'ar']\n"
     ]
    }
   ],
   "source": [
    "def translate(wordList):\n",
    "    \"\"\"\n",
    "    This function takes a list of English words and returns the Swedish translation of those words.\n",
    "    To be clear, the list is fixed as specified in the question prompt, as the dictionary is limited.\n",
    "    \n",
    "    Parameters:\n",
    "    wordList - the list to be translated, as specified by the question prompt\n",
    "    \"\"\"\n",
    "    wList = wordList\n",
    "    swedish = {\"merry\":\"god\",\"christmas\":\"jul\",\"and\":\"och\",\"happy\":\"gott\",\"new\":\"nytt\",\"year\":\"ar\"} #Defines dictionary\n",
    "    for x in range(0,len(wList)): #Loops through each word in the list as specified in the question prompt\n",
    "        wList[x] = swedish[wList[x]] #Translates each word in the list as per the question prompt\n",
    "    return wList\n",
    "\n",
    "testList = ['merry','christmas','and','happy','new','year'] #Tests the function\n",
    "testTran = translate(testList)\n",
    "print(testTran)"
   ]
  },
  {
   "cell_type": "markdown",
   "metadata": {},
   "source": [
    "### Question 10"
   ]
  },
  {
   "cell_type": "code",
   "execution_count": 10,
   "metadata": {
    "collapsed": false
   },
   "outputs": [
    {
     "name": "stdout",
     "output_type": "stream",
     "text": [
      "{'a': 5, 'c': 3, 'd': 2, 'e': 1, 'b': 4}\n",
      "{'a': 5, 'c': 3, 'd': 2, 'e': 1, 'b': 4}\n"
     ]
    }
   ],
   "source": [
    "def char_freq(userString):\n",
    "    \"\"\"\n",
    "    This function takes a string from the user and returns a frequency listing of all the characters in that string.\n",
    "    The frequency listing is returned as a dictionary.\n",
    "    \n",
    "    Parameters:\n",
    "    userString - the string entered by the user, to have its characters counted\n",
    "    \"\"\"\n",
    "    string = userString\n",
    "    freq = {} #Initializes the dictionary\n",
    "    for x in range(0,len(string)): #Loops through each character in the string\n",
    "        if not string[x] in freq: #If the character is not in our dictionary, we add it in and set its count to 1\n",
    "            freq.update(zip([string[x]],[1])) #Updates the dictionary with the new character and sets its count to 1\n",
    "        else: #If the character is already in our string, we increase its count by 1\n",
    "            freq[string[x]] += 1\n",
    "    print(freq) #Prints the dictionary\n",
    "    return freq\n",
    "\n",
    "testString = 'aaaaabbbbcccdde' #Tests the function\n",
    "testCount = char_freq(testString)\n",
    "print(testCount)"
   ]
  },
  {
   "cell_type": "markdown",
   "metadata": {},
   "source": [
    "### Question 11"
   ]
  },
  {
   "cell_type": "code",
   "execution_count": 11,
   "metadata": {
    "collapsed": false
   },
   "outputs": [
    {
     "name": "stdout",
     "output_type": "stream",
     "text": [
      "' Pnrfne pvcure? V zhpu cersre Pnrfne fnynq! ' coded as per ROT-13 is ' Caesar cipher? I much prefer Caesar salad! '\n",
      "The secret message is: Caesar cipher? I much prefer Caesar salad!\n"
     ]
    }
   ],
   "source": [
    "def rot13(userString):\n",
    "    \"\"\"\n",
    "    This function takes a string from the user and encodes/decodes that string as per the ROT-13 technique given\n",
    "    \n",
    "    Parameters:\n",
    "    userString - the string entered by the user, to be encoded/decoded as per ROT-13\n",
    "    \"\"\"\n",
    "    string = userString\n",
    "    rot13string = '' #Initialies the return string; dictionary defined below (cut and paste from question prompt)\n",
    "    rot13dict = {'a':'n','b':'o','c':'p','d':'q','e':'r','f':'s','g':'t','h':'u','i':'v','j':'w','k':'x','l':'y','m':'z','n':'a','o':'b','p':'c','q':'d','r':'e','s':'f','t':'g','u':'h','v':'i','w':'j','x':'k','y':'l','z':'m','A':'N','B':'O','C':'P','D':'Q','E':'R','F':'S','G':'T','H':'U','I':'V','J':'W','K':'X','L':'Y','M':'Z','N':'A','O':'B','P':'C','Q':'D','R':'E','S':'F','T':'G','U':'H','V':'I','W':'J','X':'K','Y':'L','Z':'M'}\n",
    "    for x in range(0,len(string)): #Loops through each character in our string\n",
    "        if string[x] in rot13dict: #If the character is a letter, thus in the dictionary, we must encode/decode it\n",
    "            rot13string = rot13string + rot13dict[string[x]]\n",
    "        else: #If the character is a space or punctuation, thus not in the dictionary, we do not alter it\n",
    "            rot13string = rot13string + string[x]\n",
    "    print(\"'\",string,\"' coded as per ROT-13 is '\",rot13string,\"'\") #Prints the result with explanation\n",
    "    return rot13string\n",
    "\n",
    "testString = 'Pnrfne pvcure? V zhpu cersre Pnrfne fnynq!' #Tests the function\n",
    "testCode = rot13(testString)\n",
    "print(\"The secret message is:\",testCode)\n"
   ]
  },
  {
   "cell_type": "markdown",
   "metadata": {},
   "source": [
    "### Question 12"
   ]
  },
  {
   "cell_type": "code",
   "execution_count": 12,
   "metadata": {
    "collapsed": false
   },
   "outputs": [
    {
     "name": "stdout",
     "output_type": "stream",
     "text": [
      "Your proofread string is: This is very funny and cool. Indeed!\n",
      "Your corrected string is: This is very funny and cool. Indeed!\n"
     ]
    }
   ],
   "source": [
    "def correct(userString):\n",
    "    \"\"\"\n",
    "    This function takes a string from the user and performs the following corrections:\n",
    "    - If a space character occurrs twice in a row, the two spaces are condensed into one\n",
    "    - If a period, comma, etc. is followed directly by a letter, a space is inserted between\n",
    "    \n",
    "    Parameters:\n",
    "    userString - the string entered by the user to have its spelling checked as per the rules above\n",
    "    \"\"\"\n",
    "    string = userString\n",
    "    correctString = '' #Initializes our return variable, the corrected string, to a blank string\n",
    "    punc = ['.',',','!','?',';'] #Defines the list of punctuation requiring a space afterward\n",
    "    x = 0 #Initializes the index variable we will use to pull characters from the string\n",
    "    while x < len(string)-1: #Loops through each character in the users string\n",
    "        if string[x] in punc and not string[x+1].isspace(): #Tests if we have punctuation lacking a space afterward\n",
    "                correctString = correctString + string[x] + ' ' #Adds the proper space after the punctuation\n",
    "        elif (string[x].isspace() and string[x+1].isspace()): #Tests if we have two consecutive spaces\n",
    "                correctString = correctString + string[x] #Adds the first space into the corrected string\n",
    "                if x+2 < len(string): #If the string has characters remaining, we skip over the second space\n",
    "                    x += 1\n",
    "        else:\n",
    "            correctString = correctString + string[x] #If there are no problems, we add the next character as is\n",
    "        x += 1\n",
    "    correctString = correctString + string[-1] #Adds the last character, as all required revisions are made ahead of it\n",
    "    print(\"Your proofread string is:\",correctString)\n",
    "    return correctString\n",
    "\n",
    "testString = 'This  is very funny and  cool.Indeed!' #Tests the function\n",
    "testCorrect = correct(testString)\n",
    "print(\"Your corrected string is:\",testCorrect)\n"
   ]
  },
  {
   "cell_type": "markdown",
   "metadata": {
    "collapsed": true
   },
   "source": [
    "### Question 13"
   ]
  },
  {
   "cell_type": "code",
   "execution_count": 13,
   "metadata": {
    "collapsed": false
   },
   "outputs": [
    {
     "name": "stdout",
     "output_type": "stream",
     "text": [
      "Your conjugated verbs are: ['tries', 'brushes', 'runs', 'fixes', 'goes', 'approaches']\n",
      "The third person singular forms of ['tries', 'brushes', 'runs', 'fixes', 'goes', 'approaches'] are ['tries', 'brushes', 'runs', 'fixes', 'goes', 'approaches']\n"
     ]
    }
   ],
   "source": [
    "def make_3sg_form(verbsList):\n",
    "    \"\"\"\n",
    "    This function takes a list of infinitive verbs from the user and returns the verbs in third person singular form\n",
    "    \n",
    "    Parameters:\n",
    "    verbsList - the list of verbs entered by the user to be conjugated, must be entered as a list object\n",
    "    \"\"\"\n",
    "    string = verbsList #Initializes the return variable\n",
    "    for x in range(0,len(string)): #Loops through each verb in the user's list\n",
    "        if string[x].endswith('y'): #Tests if the xth verb ends in y\n",
    "            string[x] = string[x].rstrip('y') #If the xth verb ends in y, we must remove y from the end of that verb\n",
    "            string[x] = string[x] + 'ies' #We now add the proper ending to the conjugated verb\n",
    "        elif string[x].endswith(('o','ch','s','sh','x','z')): #Tests if the verb ends in o, ch, s, sh, x, or z\n",
    "            string[x] = string[x] + 'es' #We now add the proper ending to the conjugated verb\n",
    "        else:\n",
    "            string[x] = string[x] + 's' #If we have not triggered any of the special cases, we default to adding s\n",
    "    print(\"Your conjugated verbs are:\",string)\n",
    "    return string\n",
    "\n",
    "testVerbs = ['try','brush','run','fix','go','approach'] #Tests the function\n",
    "testConj = make_3sg_form(testVerbs)\n",
    "print(\"The third person singular forms of\",testVerbs,\"are\",testConj)"
   ]
  },
  {
   "cell_type": "markdown",
   "metadata": {},
   "source": [
    "### Question 14"
   ]
  },
  {
   "cell_type": "code",
   "execution_count": 14,
   "metadata": {
    "collapsed": false
   },
   "outputs": [
    {
     "name": "stdout",
     "output_type": "stream",
     "text": [
      "Your list of conjugated verbs is: ['lying', 'seeing', 'moving', 'hugging', 'rowing', 'boxing']\n",
      "The present participle forms of ['lying', 'seeing', 'moving', 'hugging', 'rowing', 'boxing'] are ['lying', 'seeing', 'moving', 'hugging', 'rowing', 'boxing']\n"
     ]
    }
   ],
   "source": [
    "def make_ing_form(verbsList):\n",
    "    \"\"\"\n",
    "    This function takes a list of infinitive verbs from the user and returns the verbs in present participle form\n",
    "    \n",
    "    Parameters:\n",
    "    verbsList - the list of verbs entered by the user to be conjugated, must be entered as a list object\n",
    "    \"\"\"\n",
    "    string = verbsList #Initializes the return variable\n",
    "    noDouble = ['a','e','i','o','u','w','x'] #Defines the list of letters we do not double at the end of a verb\n",
    "    for x in range(0,len(string)): #Loops through each verb in the user's list\n",
    "        if string[x].endswith('e'): #If the verb ends in e, we must test several subcases\n",
    "            if string[x].endswith('ee'):\n",
    "                string[x] = string[x] + 'ing' #If the verb ends in ee, we simply add ing to the end of the verb\n",
    "            elif string[x].lower() == 'be':\n",
    "                string[x] = string[x] + 'ing' #If the verb is be, we simply add ing to the end of the verb\n",
    "            elif string[x].endswith('ie'):\n",
    "                string[x] = string[x].rstrip('ie') + 'ying' #If the verb ends in ie, we remove the ie and add ying\n",
    "            else:\n",
    "                string[x] = string[x].rstrip('e') + 'ing' #If no exeptions, we remove the final e and add ing\n",
    "        elif (string[x][-1] not in noDouble and string[x][-2] in noDouble and string[x][-3] not in noDouble):\n",
    "            string[x] = string[x] + string[x][-1] + 'ing' #We double the final letter of these verbs before adding ing\n",
    "        else:\n",
    "            string[x] = string[x] + 'ing' #If we are not in a special case, we simply add ing to the end of the verb\n",
    "    print(\"Your list of conjugated verbs is:\",string)\n",
    "    return string\n",
    "\n",
    "testVerbs = ['lie','see','move','hug','row','box'] #Tests the function\n",
    "testConj = make_ing_form(testVerbs)\n",
    "print(\"The present participle forms of\",testVerbs,\"are\",testConj)\n",
    "        "
   ]
“AW: great job. excellent effort”
  },
  {
   "cell_type": "code",
   "execution_count": null,
   "metadata": {
    "collapsed": false
   },
   "outputs": [],
   "source": []
  }
 ],
 "metadata": {
  "kernelspec": {
   "display_name": "Python 3",
   "language": "python",
   "name": "python3"
  },
  "language_info": {
   "codemirror_mode": {
    "name": "ipython",
    "version": 3
   },
   "file_extension": ".py",
   "mimetype": "text/x-python",
   "name": "python",
   "nbconvert_exporter": "python",
   "pygments_lexer": "ipython3",
   "version": "3.4.3"
  }
 },
 "nbformat": 4,
 "nbformat_minor": 0
}
