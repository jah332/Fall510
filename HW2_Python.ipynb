{
 "cells": [
  {
   "cell_type": "markdown",
   "metadata": {},
   "source": [
    "# John Horton Assignment 2"
   ]
  },
  {
   "cell_type": "markdown",
   "metadata": {},
   "source": [
    "### Question 1"
   ]
  },
  {
   "cell_type": "code",
   "execution_count": 29,
   "metadata": {
    "collapsed": false
   },
   "outputs": [
    {
     "name": "stdout",
     "output_type": "stream",
     "text": [
      "The Fibonacci numbers less than 200000 are:\n",
      "0\n",
      "1\n",
      "1\n",
      "2\n",
      "3\n",
      "5\n",
      "8\n",
      "13\n",
      "21\n",
      "34\n",
      "55\n",
      "89\n",
      "144\n",
      "233\n",
      "377\n",
      "610\n",
      "987\n",
      "1597\n",
      "2584\n",
      "4181\n",
      "6765\n",
      "10946\n",
      "17711\n",
      "28657\n",
      "46368\n",
      "75025\n",
      "121393\n",
      "196418\n"
     ]
    }
   ],
   "source": [
    "def fib(userNum):\n",
    "    \"\"\"\n",
    "    This function takes a number from the user and returns all Fibonacci numbers less than that number.\n",
    "    \n",
    "    Parameters:\n",
    "    userNum - the number input by the user to act as the upper bound for our Fibonacci numbers\n",
    "    \"\"\"\n",
    "    bound = userNum\n",
    "    a = -1 #a must be set to -1 to ensure our function prints 1 twice, producing the full Fibonacci sequence\n",
    "    b = 1 #Initializes b and c to the first two numbers of the Fibonacci sequence\n",
    "    c = 0\n",
    "    if bound <= c: #Tests if the user's upper bound is negative\n",
    "        print(\"There are no Fibonacci numbers less than zero.\")\n",
    "    else:\n",
    "        print(\"The Fibonacci numbers less than\",bound,\"are:\")\n",
    "        while a+b < bound: #Repeats the Fibonacci sequence until we hit the user's upper bound\n",
    "            c = a + b #Builds the next Fibonacci number by summing the previous two\n",
    "            print(c)\n",
    "            a = b #Assigns b->a and c->b so we can move through the Fibonacci sequence\n",
    "            b = c\n",
    "\n",
    "fib(200000) #Tests the function"
   ]
  },
  {
   "cell_type": "markdown",
   "metadata": {
    "collapsed": true
   },
   "source": [
    "### Question 2"
   ]
  },
  {
   "cell_type": "code",
   "execution_count": 28,
   "metadata": {
    "collapsed": false
   },
   "outputs": [
    {
     "name": "stdout",
     "output_type": "stream",
     "text": [
      "The maximum of your two numbers is: -5\n"
     ]
    }
   ],
   "source": [
    "def mymax(num1,num2):\n",
    "    \"\"\"\n",
    "    This function takes two numbers from the user and returns the larger of the two.\n",
    "\n",
    "    Parameters:\n",
    "    num1 - the first number input by the user\n",
    "    num2 - the second number input by the user\n",
    "    \"\"\"\n",
    "    finNum = num1 #Initializes return variable finNum to num1\n",
    "    if num1 >= num2:\n",
    "        return finNum #If num1 is the larger number, we can return finNum without changing it\n",
    "    else:\n",
    "        finNum = num2 #If num2 is the larger number, we need to set finNum to num2 before returning it\n",
    "        return finNum\n",
    "    \n",
    "testMax = mymax(-5,-10) #Tests the function\n",
    "print('The maximum of your two numbers is:',testMax)"
   ]
  },
  {
   "cell_type": "markdown",
   "metadata": {},
   "source": [
    "### Question 3"
   ]
  },
  {
   "cell_type": "code",
   "execution_count": 27,
   "metadata": {
    "collapsed": false
   },
   "outputs": [
    {
     "name": "stdout",
     "output_type": "stream",
     "text": [
      "The maximum of your three numbers is: -11\n"
     ]
    }
   ],
   "source": [
    "def max_of_three(num1,num2,num3):\n",
    "    \"\"\"\n",
    "    This function takes three numbers from the user and returns the largest.\n",
    "    \n",
    "    Parameters:\n",
    "    num1 - the first number input by the user\n",
    "    num2 - the second number input by the user\n",
    "    num3 - the third number input by the user\n",
    "    \"\"\"\n",
    "    finNum = num1 #Initializes return variable finNum to num1\n",
    "    if num1 >= num2: #We first check if num1 is larger than num2\n",
    "        if num1 >= num3: #If num1 is larger than num2 and num3, we can return finNum without changing it\n",
    "            return finNum\n",
    "        else:\n",
    "            finNum = num3 #We know num1 is larger than num2, so if num3 is larger than num1, then num3 is largest\n",
    "            return finNum\n",
    "    else:\n",
    "        if num2 >= num3: #We know num2 is larger than num1, so if num2 is larger than num3, then num2 is largest\n",
    "            finNum = num2\n",
    "            return finNum\n",
    "        else:\n",
    "            finNum = num3 #We know num2 is larger than num1, so if num3 is larger than num2, then num3 is largest\n",
    "            return finNum\n",
    "    \n",
    "testMaxOfThree = max_of_three(-11,-12,-101) #Tests the function\n",
    "print('The maximum of your three numbers is:',testMaxOfThree)"
   ]
  },
  {
   "cell_type": "markdown",
   "metadata": {},
   "source": [
    "### Question 4"
   ]
  },
  {
   "cell_type": "code",
   "execution_count": 26,
   "metadata": {
    "collapsed": false
   },
   "outputs": [
    {
     "name": "stdout",
     "output_type": "stream",
     "text": [
      "The length of banana is 6\n",
      "The length of my word is: 6\n"
     ]
    }
   ],
   "source": [
    "def mylen(userString):\n",
    "    \"\"\"\n",
    "    This function takes a string from the user and returns its length.\n",
    "    \n",
    "    Parameters:\n",
    "    userString - the string input by the user\n",
    "    \"\"\"\n",
    "    string = userString\n",
    "    length = 0 #Initializes the return variable to zero\n",
    "    for x in string: #Loops through each character in the string\n",
    "        length += 1 #Increases the return variable by one for each character in the string\n",
    "    print(\"The length of\",string,\"is\",length)\n",
    "    return length\n",
    "\n",
    "myLength = mylen('banana')\n",
    "print('The length of my word is:',myLength)\n",
    "    "
   ]
  },
  {
   "cell_type": "markdown",
   "metadata": {},
   "source": [
    "### Question 5"
   ]
  },
  {
   "cell_type": "code",
   "execution_count": 7,
   "metadata": {
    "collapsed": false
   },
   "outputs": [
    {
     "name": "stdout",
     "output_type": "stream",
     "text": [
      "No, g is not a vowel.\n",
      "T/F: Is your character a vowel? False\n"
     ]
    }
   ],
   "source": [
    "def isVowel(character):\n",
    "    \"\"\"\n",
    "    This function takes a character from the user and tests whether it is a vowel.\n",
    "    \n",
    "    Parameters:\n",
    "    character - the character input by the user, must be entered as a string\n",
    "    \"\"\"\n",
    "    char = character\n",
    "    vowels = [\"a\",\"e\",\"i\",\"o\",\"u\"] #Defines the list of vowels\n",
    "    if char[0].lower() in vowels: #Tests if the user's character is contained in the list of vowels\n",
    "        print('Yes,',char,'is a vowel.')\n",
    "        return True\n",
    "    else:\n",
    "        print('No,',char,'is not a vowel.')\n",
    "        return False\n",
    "\n",
    "testVal = isVowel('g') #Tests the function\n",
    "print('T/F: Is your character a vowel?',testVal)"
   ]
  },
  {
   "cell_type": "markdown",
   "metadata": {},
   "source": [
    "### Question 6"
   ]
  },
  {
   "cell_type": "code",
   "execution_count": 25,
   "metadata": {
    "collapsed": false
   },
   "outputs": [
    {
     "name": "stdout",
     "output_type": "stream",
     "text": [
      "mister in Robber's Language is momisostoteror\n",
      "What is mister in Robber's Language? momisostoteror\n"
     ]
    }
   ],
   "source": [
    "def robberLang(userString):\n",
    "    \"\"\"\n",
    "    This function takes a string from the user and converts it to Robber's Language.\n",
    "    To be clear, we take every consonant in the string and double it, placing an 'o' in between.\n",
    "    Vowels are not altered.\n",
    "    \n",
    "    Parameters:\n",
    "    userString - the string input by the user\n",
    "    \"\"\"\n",
    "    string = userString\n",
    "    finString = '' #Initializes the return variable to a blank string\n",
    "    vowels = [\"a\",\"e\",\"i\",\"o\",\"u\"] #Defines the list of vowels\n",
    "    for x in range(0,len(string)): #Loops to test each character in the user's string\n",
    "        if string[x].lower() not in vowels: #Tests if the character in place x is a consonant\n",
    "            finString = finString + string[x] + 'o' + string[x] #Manipulates the consonant as per the question prompt\n",
    "        else:\n",
    "            finString = finString + string[x] #If character x is a vowel, it is not altered and is simply added as is\n",
    "    print(string,\"in Robber's Language is\",finString) #Prints with an explanation\n",
    "    return finString\n",
    "\n",
    "testString = 'mister' #Tests the function\n",
    "testRobber = robberLang(testString)\n",
    "print(\"What is\",testString,\"in Robber's Language?\",testRobber)\n",
    "            "
   ]
  },
  {
   "cell_type": "markdown",
   "metadata": {},
   "source": [
    "### Question 7"
   ]
  },
  {
   "cell_type": "code",
   "execution_count": 24,
   "metadata": {
    "collapsed": false
   },
   "outputs": [
    {
     "name": "stdout",
     "output_type": "stream",
     "text": [
      "The sum of your numbers is 21\n"
     ]
    }
   ],
   "source": [
    "def mySum(*numbers):\n",
    "    \"\"\"\n",
    "    This function takes a list of numbers from the user and returns the sum of all the numbers in that list.\n",
    "    \n",
    "    Parameters:\n",
    "    *numbers - any number of numbers separated by commas\n",
    "    \"\"\"\n",
    "    finSum = 0 #Initializes the return variable at zero\n",
    "    for number in numbers: #Loops through all the numbers in our list\n",
    "        finSum += number #Adds the current number to our return variable to keep a running sum\n",
    "    return finSum\n",
    "\n",
    "testSum = mySum(1,2,3,4,5,6) #Tests the function\n",
    "print(\"The sum of your numbers is\",testSum)\n"
   ]
  },
  {
   "cell_type": "code",
   "execution_count": 23,
   "metadata": {
    "collapsed": false
   },
   "outputs": [
    {
     "name": "stdout",
     "output_type": "stream",
     "text": [
      "The product of your numbers is 720\n"
     ]
    }
   ],
   "source": [
    "def multiply(*numbers):\n",
    "    \"\"\"\n",
    "    This function takes a list of numbers from the user and returns the product of all the numbers in that list.\n",
    "    \n",
    "    Parameters:\n",
    "    *numbers - any number of numbers separated by commas\n",
    "    \"\"\"\n",
    "    finProd = 1 #Initializes the return variable at one\n",
    "    for number in numbers: #Loops through all the numbers in our list\n",
    "        finProd *= number #Multiplies the current number and our existing return variable to keep a running product\n",
    "    return finProd\n",
    "\n",
    "testProd = multiply(1,2,3,4,5,6) #Tests the function\n",
    "print(\"The product of your numbers is\",testProd)"
   ]
  },
  {
   "cell_type": "markdown",
   "metadata": {},
   "source": [
    "### Question 8"
   ]
  },
  {
   "cell_type": "code",
   "execution_count": 22,
   "metadata": {
    "collapsed": false
   },
   "outputs": [
    {
     "name": "stdout",
     "output_type": "stream",
     "text": [
      "apple in reverse is elppa\n",
      "What is apple in reverse? elppa\n"
     ]
    }
   ],
   "source": [
    "def reverse(userString):\n",
    "    \"\"\"\n",
    "    This function takes a string from the user and returns that string in reverse.\n",
    "    \n",
    "    Parameters:\n",
    "    userString - the string input by the user\n",
    "    \"\"\"\n",
    "    string = userString\n",
    "    finString = '' #Initializes the return variable to a blank string\n",
    "    for x in range(0,len(string)): #Loops to pull each character from the user's string\n",
    "         finString = finString + string[-(x+1)] #Adds xth character from end of user string to our return string\n",
    "    print(string,\"in reverse is\",finString) #Prints with an explanation\n",
    "    return finString\n",
    "\n",
    "testString = 'apple' #Tests the function\n",
    "testReverse = reverse(testString)\n",
    "print(\"What is\",testString,\"in reverse?\",testReverse)\n",
    "    "
   ]
  },
  {
   "cell_type": "markdown",
   "metadata": {},
   "source": [
    "### Question 9"
   ]
  },
  {
   "cell_type": "code",
   "execution_count": 21,
   "metadata": {
    "collapsed": false
   },
   "outputs": [
    {
     "name": "stdout",
     "output_type": "stream",
     "text": [
      "Yes, Hannah is a palindrome.\n",
      "T/F: Is Hannah a palindrome? True\n"
     ]
    }
   ],
   "source": [
    "def is_palindrome(userString):\n",
    "    \"\"\"\n",
    "    This function takes a string from the user and returns whether that string is a palindrome.\n",
    "    \n",
    "    Parameters:\n",
    "    userString - the string input by the user\n",
    "    \"\"\"\n",
    "    string = userString\n",
    "    for x in range(0,len(string)): #Loops to pull each character from the user's string\n",
    "        if string[x].lower() != string[-(x+1)].lower(): #Compares the xth characters at the front and end of the string\n",
    "            print(\"Sorry,\",string,\"is not a palindrome.\")\n",
    "            return False\n",
    "    print(\"Yes,\",string,\"is a palindrome.\")\n",
    "    return True\n",
    "\n",
    "testString = 'Hannah' #Tests the function\n",
    "testPalindrome = is_palindrome(testString)\n",
    "print(\"T/F: Is\",testString,\"a palindrome?\",testPalindrome)"
   ]
  },
  {
   "cell_type": "markdown",
   "metadata": {},
   "source": [
    "### Question 10"
   ]
  },
  {
   "cell_type": "code",
   "execution_count": 20,
   "metadata": {
    "collapsed": false
   },
   "outputs": [
    {
     "name": "stdout",
     "output_type": "stream",
     "text": [
      "Yes, grapefruit is contained in the list ('apple', 'orange', 'banana', 'grapefruit')\n",
      "T/F: Is grapefruit contained in the list ('apple', 'orange', 'banana', 'grapefruit') ? True\n"
     ]
    }
   ],
   "source": [
    "def is_member(userVal,userList):\n",
    "    \"\"\"\n",
    "    This function takes a value and a list from the user and determines whether the value is contained in the list.\n",
    "    \n",
    "    Parameters:\n",
    "    userVal - a single string or number input by the user, to be tested if it is contained in userList\n",
    "    userList - a list of strings or numbers input by the user, separated by commas, may or may not contain userVal\n",
    "    Lists can contain a mix of strings and numbers so long as all elements are separated by commas\n",
    "    \"\"\"\n",
    "    val = userVal\n",
    "    uList = userList\n",
    "    for x in range(0,len(uList)): #Loops through each value in the user's list\n",
    "        if uList[x] == val: #Compares the xth value in the list to the user's single value\n",
    "            print(\"Yes,\",val,\"is contained in the list\",uList)\n",
    "            return True\n",
    "    print(\"Sorry,\",val,\"is not contained in the list\",uList)\n",
    "    return False\n",
    "\n",
    "testVal = 'grapefruit' #Tests the function\n",
    "testList = ('apple','orange','banana','grapefruit')\n",
    "testMem = is_member(testVal,testList)\n",
    "print(\"T/F: Is\",testVal,\"contained in the list\",testList,\"?\",testMem)"
   ]
  },
  {
   "cell_type": "markdown",
   "metadata": {},
   "source": [
    "### Question 11"
   ]
  },
  {
   "cell_type": "code",
   "execution_count": 19,
   "metadata": {
    "collapsed": false
   },
   "outputs": [
    {
     "name": "stdout",
     "output_type": "stream",
     "text": [
      "These lists overlap. The value(s) [4, 5, 6, 'banana', 'grapefruit'] are contained in both lists.\n",
      "T/F: Do the lists (1, 2, 3, 4, 5, 6, 'banana', 'apple', 'grapefruit') (4, 5, 6, 7, 8, 9, 'lemon', 'grapefruit', 'banana') have any elements in common? True\n"
     ]
    }
   ],
   "source": [
    "def overlapping(userList1,userList2):\n",
    "    \"\"\"\n",
    "    This function takes two lists from the user and determines whether they have any values in common.\n",
    "    \n",
    "    Parameters:\n",
    "    userList1 - the first list of strings or numbers input by the user, separated by commas\n",
    "    userList2 - the second list of strings or numbers input by the user, separated by commas\n",
    "    Lists can contain a mix of strings and numbers so long as all elements are separated by commas\n",
    "    \"\"\"\n",
    "    list1 = userList1\n",
    "    list2 = userList2\n",
    "    commonList = [] #Initializes the list of common values\n",
    "    returnVal = False #Initializes the return value\n",
    "    for x in range(0,len(list1)): #Loops through the list1 to test each of its x values\n",
    "        for y in range(0,len(list2)): #Loops through list2 to compare each of its y values to the xth value in list1\n",
    "            if list1[x] == list2[y]: #Compares the xth value in list1 to the yth value in list2\n",
    "                commonList.append(list1[x]) #Adds the value to list of common values if it is contained in both lists\n",
    "                returnVal = True\n",
    "    if returnVal:\n",
    "        print(\"These lists overlap. The value(s)\",commonList,\"are contained in both lists.\")\n",
    "    else:\n",
    "        print(\"These lists do not overlap.\")\n",
    "    return returnVal\n",
    "\n",
    "testList1 = (1,2,3,4,5,6,'banana','apple','grapefruit')\n",
    "testList2 = (4,5,6,7,8,9,'lemon','grapefruit','banana')\n",
    "testVal = overlapping(testList1,testList2)\n",
    "print(\"T/F: Do the lists\",testList1,testList2,\"have any elements in common?\",testVal)\n"
   ]
  },
  {
   "cell_type": "markdown",
   "metadata": {},
   "source": [
    "### Question 12"
   ]
  },
  {
   "cell_type": "code",
   "execution_count": 18,
   "metadata": {
    "collapsed": false
   },
   "outputs": [
    {
     "name": "stdout",
     "output_type": "stream",
     "text": [
      "x repeated 5 times is xxxxx\n",
      "What is x repeated 5 times? xxxxx\n"
     ]
    }
   ],
   "source": [
    "def generate_n_chars(userNum,userChar):\n",
    "    \"\"\"\n",
    "    This function takes a number n and a character from the user, returns a string with that character repeated n times\n",
    "    \n",
    "    Parameters:\n",
    "    userNum - the number of times the character is to be repeated in the string\n",
    "    userChar - the string to be repeated userNum times in the return string\n",
    "    \"\"\"\n",
    "    num = userNum\n",
    "    char = userChar\n",
    "    returnString = '' #Initializes the return string\n",
    "    for x in range(0,num): #Repeats the character num times\n",
    "        returnString += char #Adds the character to the return string each turn through the loop\n",
    "    print(char,\"repeated\",num,\"times is\",returnString)\n",
    "    return returnString\n",
    "\n",
    "testNum = 5 #Tests the function\n",
    "testChar = 'x'\n",
    "testString = generate_n_chars(testNum,testChar)\n",
    "print(\"What is\",testChar,\"repeated\",testNum,\"times?\",testString)\n",
    "    "
   ]
  },
  {
   "cell_type": "code",
   "execution_count": null,
   "metadata": {
    "collapsed": true
   },
   "outputs": [],
   "source": []
  }
 ],
 "metadata": {
  "kernelspec": {
   "display_name": "Python 3",
   "language": "python",
   "name": "python3"
  },
  "language_info": {
   "codemirror_mode": {
    "name": "ipython",
    "version": 3
   },
   "file_extension": ".py",
   "mimetype": "text/x-python",
   "name": "python",
   "nbconvert_exporter": "python",
   "pygments_lexer": "ipython3",
   "version": "3.4.3"
  }
 },
 "nbformat": 4,
 "nbformat_minor": 0
}
