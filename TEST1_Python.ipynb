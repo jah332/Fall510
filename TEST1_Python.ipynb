{
 "cells": [
  {
   "cell_type": "markdown",
   "metadata": {},
   "source": [
    "# Test 1 Python\n",
    "# John Horton"
   ]
  },
  {
   "cell_type": "code",
   "execution_count": 5,
   "metadata": {
    "collapsed": false
   },
   "outputs": [
    {
     "name": "stdout",
     "output_type": "stream",
     "text": [
      "The perimeter of your polygon is 8.0\n"
     ]
    }
   ],
   "source": [
    "def polygperim(coords):\n",
    "    \"\"\"\n",
    "    This function takes a list of (x,y) vertices from the user and calculates the perimeter of the polygon \n",
    "    bound by those vertices. Note that the polygon defined by the user's vertices need not be simple or regular.\n",
    "    The function will form a polygon out of the vertices in the order they are given; note that the list of\n",
    "    coordinates [(0,0),(0,2),(2,2),(2,0)] represents a 2*2 square, while the list of coordinates\n",
    "    [(0,0),(2,2),(2,0),(0,2)] represents a non-simple polygon bearing a bowtie-like shape.\n",
    "    \n",
    "    Parameters:\n",
    "     - coords: the list of (x,y) coordinates input by the user. coords must be a list object of coordinate\n",
    "     pairs in (x,y) form, where x and y are numbers\n",
    "     \n",
    "    Return:\n",
    "     - perim: the perimiter of the polygon bound by the user's vertices\n",
    "    \"\"\"\n",
    "    pCoords = coords\n",
    "    #We initialize xDist to zero\n",
    "    xDist = 0\n",
    "    #We initialize yDist to zero\n",
    "    yDist = 0\n",
    "    #We initialize our return variable perim to zero\n",
    "    perim = 0\n",
    "    #We loop through each pair of points in our list, so that we may take the distance between them\n",
    "    for i in range(0,len(pCoords)-1):\n",
    "        #We take the horizontal distance between this pair of points\n",
    "        xDist = pCoords[i+1][0] - pCoords[i][0]\n",
    "        #We take the vertical distance between this pair of points\n",
    "        yDist = pCoords[i+1][1] - pCoords[i][1]\n",
    "        #We apply the distance formula to find the true distance between this pair of points, and add that to perim\n",
    "        perim += ((xDist)**2 + (yDist)**2)**(1/2)\n",
    "    #Now that we have come out of the loop, we must consider the distance between the first and last points in the list\n",
    "    #We take that distance below by the same mechanism as above, and add that distance to perim; now perim is complete\n",
    "    xDist = pCoords[0][0] - pCoords[len(pCoords)-1][0]\n",
    "    yDist = pCoords[0][1] - pCoords[len(pCoords)-1][1]\n",
    "    perim += ((xDist)**2 + (yDist)**2)**(1/2)\n",
    "    return perim\n",
    "\n",
    "#Tests the function\n",
    "coords = [(0,0),(0,2),(2,2),(2,0)]\n",
    "testPerim = polygperim(coords)\n",
    "print(\"The perimeter of your polygon is\",testPerim)  \n",
    "    "
   ]
  },
  {
   "cell_type": "code",
   "execution_count": 1,
   "metadata": {
    "collapsed": false
   },
   "outputs": [
    {
     "name": "stdout",
     "output_type": "stream",
     "text": [
      "The area of your polygon is 16.0\n"
     ]
    }
   ],
   "source": [
    "def polygarea(coords):\n",
    "    \"\"\"\n",
    "    This function takes a list of (x,y) vertices from the user and calculates the area of the polygon \n",
    "    bound by those vertices. Here, in order to fit the conditions of Green's theorem, the polygon must\n",
    "    be simple and vertices must be ordered in strictly clockwise or counterclockwise fashion.\n",
    "    \n",
    "    Parameters:\n",
    "     - coords: the list of (x,y) coordinates input by the user. coords must be a list object of coordinate\n",
    "     pairs in (x,y) form, where x and y are numbers\n",
    "     \n",
    "    Return:\n",
    "     - area: the area of the polygon bound by the user's vertices\n",
    "    \"\"\"\n",
    "    pCoords = coords\n",
    "    #We initialize our return variable to zero\n",
    "    area = 0\n",
    "    #We loop through each pair of points in our list, so that we may apply Green's theorem\n",
    "    for i in range(0,len(pCoords)-1):\n",
    "        #We evaluate the inner sum in Green's theorem\n",
    "        area += (pCoords[i][0]*pCoords[i+1][1] - pCoords[i+1][0]*pCoords[i][1])\n",
    "    #We now take the absolute value of that inner sum and divide by two to complete Green's theorem\n",
    "    area = (1/2)*abs(area)\n",
    "    return area\n",
    "\n",
    "#Tests the function\n",
    "coords = [(0,0),(4,0),(4,4),(0,4)]\n",
    "testArea = polygarea(coords)\n",
    "print(\"The area of your polygon is\",testArea)  \n"
   ]
  },
  {
   "cell_type": "code",
   "execution_count": null,
   "metadata": {
    "collapsed": true
   },
   "outputs": [],
   "source": []
  }
 ],
 "metadata": {
  "kernelspec": {
   "display_name": "Python 3",
   "language": "python",
   "name": "python3"
  },
  "language_info": {
   "codemirror_mode": {
    "name": "ipython",
    "version": 3
   },
   "file_extension": ".py",
   "mimetype": "text/x-python",
   "name": "python",
   "nbconvert_exporter": "python",
   "pygments_lexer": "ipython3",
   "version": "3.4.3"
  }
 },
 "nbformat": 4,
 "nbformat_minor": 0
}
